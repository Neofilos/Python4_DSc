{
 "cells": [
  {
   "cell_type": "markdown",
   "metadata": {},
   "source": [
    "# Acceso a ruta de archivos en local\n",
    "\n",
    "Cuando estamos trabajando en local y tenemos que abrir una base de datos \n",
    "\n",
    "solemos necesitar la ruta de donde se encuentra almacenada dicha base.\n",
    "\n",
    "Luego de tener la ruta se suele copiar la ruta \n",
    "\n",
    "poner ruta\n",
    "\n",
    "pero está tal cuál no puede ser usado toca cambiar los / por \\\n",
    "\n",
    "cambiar ruta\n",
    "\n",
    "ahora con este podemos usarlo"
   ]
  },
  {
   "cell_type": "code",
   "execution_count": null,
   "metadata": {},
   "outputs": [],
   "source": [
    "import pandas as pd\n",
    "# abrir csv\n",
    "data = pd.read_csv('ruta')\n",
    "data.head(3)"
   ]
  },
  {
   "cell_type": "markdown",
   "metadata": {},
   "source": [
    "Pero esto tiene sus inconvenientes a la hora de compartir el cuaderno\n",
    "\n",
    "o de intentar abrirlo en otro computador, teniendo encuenta estos problemas\n",
    "\n",
    "buscaremos una solución para ello."
   ]
  },
  {
   "cell_type": "code",
   "execution_count": null,
   "metadata": {},
   "outputs": [],
   "source": [
    "# primero miraremos el directorio actual"
   ]
  },
  {
   "cell_type": "markdown",
   "metadata": {},
   "source": [
    "Luego de tener el directorio actual entonces miraremos donde se encuentra\n",
    "\n",
    "y cuál es el archivo que queremos abrir "
   ]
  },
  {
   "cell_type": "code",
   "execution_count": null,
   "metadata": {},
   "outputs": [],
   "source": [
<<<<<<< HEAD
    "#obtener directorio de trabajo"
=======
    "#obtener directorio"
>>>>>>> 1d88e5baadf71768c48531f26eea3ac046efa870
   ]
  },
  {
   "cell_type": "code",
   "execution_count": null,
   "metadata": {},
   "outputs": [],
   "source": [
    "# creamos una variable con la ruta\n",
    "Ruta_archivo = \n",
    "print(Ruta_archivo)"
   ]
  },
  {
   "cell_type": "markdown",
   "metadata": {},
   "source": [
    "Crear la variable nos da la ventaja de que podemos modificar este código y abrir\n",
    "\n",
    "distintos archivos y facilita la lectura del código.\n",
    "\n",
    "Con esto ya automaticamente al trasladar la carpeta con los archivos o compartirlo\n",
    "\n",
    "con otra persona el mismo código permitira que se abra el archivo sin problemas \n",
    "\n",
    "o sin necesidad de copiar y pegar la ruta de nuevo "
   ]
  }
 ],
 "metadata": {
  "kernelspec": {
   "display_name": "Python 3",
   "language": "python",
   "name": "python3"
  },
  "language_info": {
   "codemirror_mode": {
    "name": "ipython",
    "version": 3
   },
   "file_extension": ".py",
   "mimetype": "text/x-python",
   "name": "python",
   "nbconvert_exporter": "python",
   "pygments_lexer": "ipython3",
   "version": "3.9.13"
  }
 },
 "nbformat": 4,
 "nbformat_minor": 2
}
